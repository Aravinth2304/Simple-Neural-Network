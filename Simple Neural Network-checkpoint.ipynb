{
 "cells": [
  {
   "cell_type": "code",
   "execution_count": 1,
   "id": "d81298f3",
   "metadata": {},
   "outputs": [
    {
     "name": "stdout",
     "output_type": "stream",
     "text": [
      "Initial weights:\n",
      " [[-0.16595599]\n",
      " [ 0.44064899]\n",
      " [-0.99977125]]\n",
      "Trained weights:\n",
      " [[ 9.67299303]\n",
      " [-0.2078435 ]\n",
      " [-4.62963669]]\n",
      "Input 1: 1\n",
      "Input 2: 2\n",
      "Input 3: 3\n",
      "Output: [0.00964519]\n"
     ]
    }
   ],
   "source": [
    "import numpy as np\n",
    "\n",
    "class NeuralNetwork:\n",
    "    def __init__(self):\n",
    "        np.random.seed(1)\n",
    "        # Initialize random weights with values between -1 and 1\n",
    "        self.weights = 2 * np.random.rand(3, 1) - 1\n",
    "\n",
    "    def sigmoid(self, x):\n",
    "        # Sigmoid activation function\n",
    "        return 1 / (1 + np.exp(-x))\n",
    "\n",
    "    def sigmoid_derivative(self, x):\n",
    "        # Derivative of the sigmoid function\n",
    "        return x * (1 - x)\n",
    "\n",
    "    def train(self, inputs, outputs, iterations):\n",
    "        for _ in range(iterations):\n",
    "            # Forward pass\n",
    "            output = self.predict(inputs)\n",
    "            # Calculate the error\n",
    "            error = outputs - output\n",
    "            # Update weights based on error and derivative\n",
    "            adjustments = np.dot(inputs.T, error * self.sigmoid_derivative(output))\n",
    "            self.weights += adjustments\n",
    "\n",
    "    def predict(self, inputs):\n",
    "        # Perform a weighted sum and apply sigmoid\n",
    "        return self.sigmoid(np.dot(inputs, self.weights))\n",
    "\n",
    "# Main script\n",
    "if __name__ == \"__main__\":\n",
    "    # Initialize and display random weights\n",
    "    nn = NeuralNetwork()\n",
    "    print(\"Initial weights:\\n\", nn.weights)\n",
    "\n",
    "    # Training data for XOR pattern\n",
    "    training_inputs = np.array([[0, 0, 1],\n",
    "                                [1, 1, 1],\n",
    "                                [1, 0, 1],\n",
    "                                [0, 1, 1]])\n",
    "    training_outputs = np.array([[0], [1], [1], [0]])\n",
    "\n",
    "    # Train the neural network\n",
    "    nn.train(training_inputs, training_outputs, 10000)\n",
    "\n",
    "    # Display weights after training\n",
    "    print(\"Trained weights:\\n\", nn.weights)\n",
    "\n",
    "    # Test with new input\n",
    "    A = float(input(\"Input 1: \"))\n",
    "    B = float(input(\"Input 2: \"))\n",
    "    C = float(input(\"Input 3: \"))\n",
    "    new_input = np.array([A, B, C])\n",
    "    print(\"Output:\", nn.predict(new_input))\n"
   ]
  },
  {
   "cell_type": "code",
   "execution_count": null,
   "id": "1240450c",
   "metadata": {},
   "outputs": [],
   "source": []
  }
 ],
 "metadata": {
  "kernelspec": {
   "display_name": "Python 3 (ipykernel)",
   "language": "python",
   "name": "python3"
  },
  "language_info": {
   "codemirror_mode": {
    "name": "ipython",
    "version": 3
   },
   "file_extension": ".py",
   "mimetype": "text/x-python",
   "name": "python",
   "nbconvert_exporter": "python",
   "pygments_lexer": "ipython3",
   "version": "3.9.12"
  }
 },
 "nbformat": 4,
 "nbformat_minor": 5
}
